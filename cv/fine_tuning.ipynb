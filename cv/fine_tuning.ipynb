{
 "cells": [
  {
   "cell_type": "code",
   "execution_count": 1,
   "id": "648fb1ec-f4dd-4a74-bccc-1f949e1bd279",
   "metadata": {
    "tags": []
   },
   "outputs": [],
   "source": [
    "from ultralytics import YOLO\n",
    "import os\n",
    "from collections import defaultdict"
   ]
  },
  {
   "cell_type": "code",
   "execution_count": 2,
   "id": "5f8718a2-180b-4c1f-9aea-9099741aee1d",
   "metadata": {
    "tags": []
   },
   "outputs": [],
   "source": [
    "\n",
    "# Function to convert a single annotation to YOLO format\n",
    "def convert_to_yolo(annotation, image_width, image_height):\n",
    "    # Adjust class_id to start from 0 (assuming category_id starts from 1)\n",
    "    class_id = annotation['category_id']\n",
    "    x = annotation['0']  # Top-left x coordinate\n",
    "    y = annotation['1']  # Top-left y coordinate\n",
    "    width = annotation['2']  # Width of bounding box\n",
    "    height = annotation['3']  # Height of bounding box\n",
    "    \n",
    "    # Calculate normalized center coordinates and dimensions\n",
    "    center_x = (x + width / 2) / image_width\n",
    "    center_y = (y + height / 2) / image_height\n",
    "    width_norm = width / image_width\n",
    "    height_norm = height / image_height\n",
    "    \n",
    "    # Return YOLO format string\n",
    "    return f\"{class_id} {center_x} {center_y} {width_norm} {height_norm}\"\n"
   ]
  },
  {
   "cell_type": "code",
   "execution_count": 3,
   "id": "4139292f-4976-489d-b107-d310cf94e66b",
   "metadata": {
    "tags": []
   },
   "outputs": [],
   "source": [
    "\n",
    "# Function to create YOLO annotation files\n",
    "def create_yolo_annotations(annotations, image_info_list, output_dir):\n",
    "    # Create a dictionary from image_id to image info\n",
    "    image_dict = {img['id']: img for img in image_info_list}\n",
    "    \n",
    "    # Group annotations by image_id\n",
    "    annotations_by_image = defaultdict(list)\n",
    "    for ann in annotations:\n",
    "        annotations_by_image[ann['image_id']].append(ann)\n",
    "    \n",
    "    # Ensure output directory exists\n",
    "    os.makedirs(output_dir, exist_ok=True)\n",
    "    \n",
    "    for image_id, anns in annotations_by_image.items():\n",
    "        image_info = image_dict[image_id]\n",
    "        image_width = image_info['width']\n",
    "        image_height = image_info['height']\n",
    "        image_file_name = image_info['file_name']\n",
    "        \n",
    "        # Define annotation file path\n",
    "        ann_file_name = os.path.splitext(image_file_name)[0] + '.txt'\n",
    "        ann_file_path = os.path.join(output_dir, ann_file_name)\n",
    "        \n",
    "        # Write annotations to file\n",
    "        with open(ann_file_path, 'w') as f:\n",
    "            for ann in anns:\n",
    "                yolo_line = convert_to_yolo(ann, image_width, image_height)\n",
    "                f.write(yolo_line + '\\n')\n"
   ]
  },
  {
   "cell_type": "code",
   "execution_count": 4,
   "id": "fa7850b3-4693-430f-9194-a2ab7102e309",
   "metadata": {
    "tags": []
   },
   "outputs": [],
   "source": [
    "\n",
    "# Example data (replace with your actual data)\n",
    "annotations = [\n",
    "    {\n",
    "        'id': 0,\n",
    "        'image_id': 9146,\n",
    "        'category_id': 1,\n",
    "        'area': 3861.0041370397084,\n",
    "        '0': 2.9999542236328125,\n",
    "        '1': 315.9999918937683,\n",
    "        '2': 99.00009155273438,\n",
    "        '3': 39.0000057220459,\n",
    "        'iscrowd': 0\n",
    "    }\n",
    "    # Add more annotations as needed\n",
    "]\n",
    "\n",
    "images = [\n",
    "    {'id': 9146, 'file_name': 'image9146.jpg', 'width': 640, 'height': 480}\n",
    "    # Add more image info as needed\n",
    "]\n"
   ]
  },
  {
   "cell_type": "code",
   "execution_count": null,
   "id": "65e3604f-148d-4e11-8080-8a4d42e0cd53",
   "metadata": {},
   "outputs": [],
   "source": [
    "\n",
    "# Convert annotations to YOLO format\n",
    "create_yolo_annotations(annotations, images, 'data/train/labels')\n",
    "\n",
    "# Load a pre-trained YOLOv11 model\n",
    "model = YOLO('yolo11n.pt')  # Use 'yolo11s.pt', 'yolo11m.pt', etc., for other variants\n",
    "\n",
    "# Define the path to your dataset YAML file\n",
    "dataset_yaml = 'data/dataset.yaml'\n"
   ]
  },
  {
   "cell_type": "code",
   "execution_count": null,
   "id": "caf79bd7-dba7-4c8b-a9ef-0175ae9c5aa4",
   "metadata": {},
   "outputs": [],
   "source": [
    "\n",
    "# Train the model\n",
    "model.train(\n",
    "    data=dataset_yaml,\n",
    "    epochs=100,  # Adjust based on your needs\n",
    "    imgsz=640,   # Image size (adjust if necessary)\n",
    "    batch=16,    # Batch size (adjust based on GPU memory)\n",
    "    name='yolo11_custom'  # Name for this training run\n",
    ")\n",
    "\n"
   ]
  },
  {
   "cell_type": "code",
   "execution_count": null,
   "id": "c3d96456-8439-4da9-a087-e517d594b90d",
   "metadata": {},
   "outputs": [],
   "source": [
    "# Evaluate the model on the validation set\n",
    "model.val()\n"
   ]
  },
  {
   "cell_type": "code",
   "execution_count": null,
   "id": "6bb9543a-aa03-4ce4-b3d4-826cd745a2c0",
   "metadata": {},
   "outputs": [],
   "source": [
    "\n",
    "# Save the trained model\n",
    "model.save('yolo11_custom.pt')\n"
   ]
  },
  {
   "cell_type": "code",
   "execution_count": null,
   "id": "2def7c7e-ba9e-49da-850b-0d88390f401e",
   "metadata": {},
   "outputs": [],
   "source": [
    "\n",
    "# Example inference\n",
    "results = model('data/train/images/image9146.jpg')\n",
    "results.show()"
   ]
  }
 ],
 "metadata": {
  "environment": {
   "kernel": "myenv",
   "name": "workbench-notebooks.m129",
   "type": "gcloud",
   "uri": "us-docker.pkg.dev/deeplearning-platform-release/gcr.io/workbench-notebooks:m129"
  },
  "kernelspec": {
   "display_name": "Python3",
   "language": "python",
   "name": "myenv"
  },
  "language_info": {
   "codemirror_mode": {
    "name": "ipython",
    "version": 3
   },
   "file_extension": ".py",
   "mimetype": "text/x-python",
   "name": "python",
   "nbconvert_exporter": "python",
   "pygments_lexer": "ipython3",
   "version": "3.10.16"
  }
 },
 "nbformat": 4,
 "nbformat_minor": 5
}
